{
 "cells": [
  {
   "cell_type": "code",
   "execution_count": 1,
   "metadata": {},
   "outputs": [
    {
     "name": "stdout",
     "output_type": "stream",
     "text": [
      "········\n"
     ]
    }
   ],
   "source": [
    "import pymysql\n",
    "from sqlalchemy import create_engine\n",
    "import pandas as pd\n",
    "import getpass  # to get the password without showing the input\n",
    "password = getpass.getpass()"
   ]
  },
  {
   "cell_type": "code",
   "execution_count": 2,
   "metadata": {},
   "outputs": [],
   "source": [
    "# EXERCISE: Create a Python connection with SQL database and retrieve the results of the last two queries as dataframes\n",
    "\n",
    "connection_string = 'mysql+pymysql://root:' + password + '@localhost/sakila'\n",
    "engine = create_engine(connection_string)"
   ]
  },
  {
   "cell_type": "code",
   "execution_count": 3,
   "metadata": {},
   "outputs": [
    {
     "data": {
      "text/html": [
       "<div>\n",
       "<style scoped>\n",
       "    .dataframe tbody tr th:only-of-type {\n",
       "        vertical-align: middle;\n",
       "    }\n",
       "\n",
       "    .dataframe tbody tr th {\n",
       "        vertical-align: top;\n",
       "    }\n",
       "\n",
       "    .dataframe thead th {\n",
       "        text-align: right;\n",
       "    }\n",
       "</style>\n",
       "<table border=\"1\" class=\"dataframe\">\n",
       "  <thead>\n",
       "    <tr style=\"text-align: right;\">\n",
       "      <th></th>\n",
       "      <th>rentals_may</th>\n",
       "    </tr>\n",
       "    <tr>\n",
       "      <th>customer_id</th>\n",
       "      <th></th>\n",
       "    </tr>\n",
       "  </thead>\n",
       "  <tbody>\n",
       "    <tr>\n",
       "      <th>197</th>\n",
       "      <td>8</td>\n",
       "    </tr>\n",
       "    <tr>\n",
       "      <th>109</th>\n",
       "      <td>7</td>\n",
       "    </tr>\n",
       "    <tr>\n",
       "      <th>506</th>\n",
       "      <td>7</td>\n",
       "    </tr>\n",
       "    <tr>\n",
       "      <th>19</th>\n",
       "      <td>6</td>\n",
       "    </tr>\n",
       "    <tr>\n",
       "      <th>53</th>\n",
       "      <td>6</td>\n",
       "    </tr>\n",
       "  </tbody>\n",
       "</table>\n",
       "</div>"
      ],
      "text/plain": [
       "             rentals_may\n",
       "customer_id             \n",
       "197                    8\n",
       "109                    7\n",
       "506                    7\n",
       "19                     6\n",
       "53                     6"
      ]
     },
     "execution_count": 3,
     "metadata": {},
     "output_type": "execute_result"
    }
   ],
   "source": [
    "# EXERCISE: Check the number of rentals for each customer for May\n",
    "\n",
    "df_may = pd.read_sql_query(\n",
    "    'SELECT customer_id, count(rental_id) as rentals FROM rentals_may GROUP BY customer_id ORDER BY count(rental_id) DESC;',\n",
    "    engine)\n",
    "df_may.set_index('customer_id', inplace=True)\n",
    "df_may.rename(columns = {'rentals':'rentals_may'}, inplace = True)\n",
    "df_may.head()"
   ]
  },
  {
   "cell_type": "code",
   "execution_count": 4,
   "metadata": {},
   "outputs": [
    {
     "data": {
      "text/html": [
       "<div>\n",
       "<style scoped>\n",
       "    .dataframe tbody tr th:only-of-type {\n",
       "        vertical-align: middle;\n",
       "    }\n",
       "\n",
       "    .dataframe tbody tr th {\n",
       "        vertical-align: top;\n",
       "    }\n",
       "\n",
       "    .dataframe thead th {\n",
       "        text-align: right;\n",
       "    }\n",
       "</style>\n",
       "<table border=\"1\" class=\"dataframe\">\n",
       "  <thead>\n",
       "    <tr style=\"text-align: right;\">\n",
       "      <th></th>\n",
       "      <th>rentals_june</th>\n",
       "    </tr>\n",
       "    <tr>\n",
       "      <th>customer_id</th>\n",
       "      <th></th>\n",
       "    </tr>\n",
       "  </thead>\n",
       "  <tbody>\n",
       "    <tr>\n",
       "      <th>31</th>\n",
       "      <td>11</td>\n",
       "    </tr>\n",
       "    <tr>\n",
       "      <th>454</th>\n",
       "      <td>10</td>\n",
       "    </tr>\n",
       "    <tr>\n",
       "      <th>213</th>\n",
       "      <td>9</td>\n",
       "    </tr>\n",
       "    <tr>\n",
       "      <th>267</th>\n",
       "      <td>9</td>\n",
       "    </tr>\n",
       "    <tr>\n",
       "      <th>295</th>\n",
       "      <td>9</td>\n",
       "    </tr>\n",
       "  </tbody>\n",
       "</table>\n",
       "</div>"
      ],
      "text/plain": [
       "             rentals_june\n",
       "customer_id              \n",
       "31                     11\n",
       "454                    10\n",
       "213                     9\n",
       "267                     9\n",
       "295                     9"
      ]
     },
     "execution_count": 4,
     "metadata": {},
     "output_type": "execute_result"
    }
   ],
   "source": [
    "# EXERCISE: Check the number of rentals for each customer for June\n",
    "\n",
    "df_june = pd.read_sql_query(\n",
    "    'SELECT customer_id, count(rental_id) as rentals FROM rentals_june GROUP BY customer_id ORDER BY count(rental_id) DESC;',\n",
    "    engine)\n",
    "df_june.set_index('customer_id', inplace=True)\n",
    "df_june.rename(columns = {'rentals':'rentals_june'}, inplace = True)\n",
    "df_june.head()"
   ]
  },
  {
   "cell_type": "code",
   "execution_count": 5,
   "metadata": {},
   "outputs": [],
   "source": [
    "# EXERCISE: Write a function that checks if a customer borrowed more or less films in the month of June as compared to May.\n",
    "\n",
    "def june_or_may(customer_id):\n",
    "    password = getpass.getpass()\n",
    "    connection_string = 'mysql+pymysql://root:' + password + '@localhost/sakila'\n",
    "    engine = create_engine(connection_string)\n",
    "    \n",
    "    # Check the number of rentals for each customer for May\n",
    "    df_may = pd.read_sql_query(\n",
    "        'SELECT customer_id, count(rental_id) as rentals FROM rentals_may GROUP BY customer_id ORDER BY count(rental_id) DESC;',\n",
    "        engine)\n",
    "    df_may.set_index('customer_id', inplace=True)\n",
    "    df_may.rename(columns = {'rentals':'rentals_may'}, inplace = True)\n",
    "    \n",
    "    # Check the number of rentals for each customer for June\n",
    "    df_june = pd.read_sql_query(\n",
    "        'SELECT customer_id, count(rental_id) as rentals FROM rentals_june GROUP BY customer_id ORDER BY count(rental_id) DESC;',\n",
    "        engine)\n",
    "    df_june.set_index('customer_id', inplace=True)\n",
    "    df_june.rename(columns = {'rentals':'rentals_june'}, inplace = True)\n",
    "    \n",
    "    # Join dataframes, fill NaN and sort by customer_id\n",
    "    rentals = df_may.join(df_june, how=\"outer\").fillna(0).sort_values('customer_id')\n",
    "    \n",
    "    if customer_id in rentals.index:\n",
    "        if rentals.at[customer_id, 'rentals_may'] > rentals.at[customer_id, 'rentals_june']:\n",
    "            print(\"Customer ID\", customer_id, \"rented more films in MAY than in June.\")\n",
    "        elif rentals.at[customer_id, 'rentals_may'] < rentals.at[customer_id, 'rentals_june']:\n",
    "            print(\"Customer ID\", customer_id, \"rented more films in JUNE than in May.\")\n",
    "        else:\n",
    "            print(\"Customer ID\", customer_id, \"rented the same amount of films in May and June.\")\n",
    "    else:\n",
    "        print(\"Customer ID\", customer_id, \"did not rent any films between May and June or is not registered in this database\")"
   ]
  },
  {
   "cell_type": "code",
   "execution_count": 6,
   "metadata": {},
   "outputs": [
    {
     "data": {
      "text/html": [
       "<div>\n",
       "<style scoped>\n",
       "    .dataframe tbody tr th:only-of-type {\n",
       "        vertical-align: middle;\n",
       "    }\n",
       "\n",
       "    .dataframe tbody tr th {\n",
       "        vertical-align: top;\n",
       "    }\n",
       "\n",
       "    .dataframe thead th {\n",
       "        text-align: right;\n",
       "    }\n",
       "</style>\n",
       "<table border=\"1\" class=\"dataframe\">\n",
       "  <thead>\n",
       "    <tr style=\"text-align: right;\">\n",
       "      <th></th>\n",
       "      <th>rentals_may</th>\n",
       "      <th>rentals_june</th>\n",
       "    </tr>\n",
       "    <tr>\n",
       "      <th>customer_id</th>\n",
       "      <th></th>\n",
       "      <th></th>\n",
       "    </tr>\n",
       "  </thead>\n",
       "  <tbody>\n",
       "    <tr>\n",
       "      <th>1</th>\n",
       "      <td>2.0</td>\n",
       "      <td>7.0</td>\n",
       "    </tr>\n",
       "    <tr>\n",
       "      <th>2</th>\n",
       "      <td>1.0</td>\n",
       "      <td>1.0</td>\n",
       "    </tr>\n",
       "    <tr>\n",
       "      <th>3</th>\n",
       "      <td>2.0</td>\n",
       "      <td>4.0</td>\n",
       "    </tr>\n",
       "    <tr>\n",
       "      <th>4</th>\n",
       "      <td>0.0</td>\n",
       "      <td>6.0</td>\n",
       "    </tr>\n",
       "    <tr>\n",
       "      <th>5</th>\n",
       "      <td>3.0</td>\n",
       "      <td>5.0</td>\n",
       "    </tr>\n",
       "    <tr>\n",
       "      <th>6</th>\n",
       "      <td>3.0</td>\n",
       "      <td>4.0</td>\n",
       "    </tr>\n",
       "    <tr>\n",
       "      <th>7</th>\n",
       "      <td>5.0</td>\n",
       "      <td>5.0</td>\n",
       "    </tr>\n",
       "    <tr>\n",
       "      <th>8</th>\n",
       "      <td>1.0</td>\n",
       "      <td>3.0</td>\n",
       "    </tr>\n",
       "    <tr>\n",
       "      <th>9</th>\n",
       "      <td>3.0</td>\n",
       "      <td>2.0</td>\n",
       "    </tr>\n",
       "    <tr>\n",
       "      <th>10</th>\n",
       "      <td>1.0</td>\n",
       "      <td>5.0</td>\n",
       "    </tr>\n",
       "  </tbody>\n",
       "</table>\n",
       "</div>"
      ],
      "text/plain": [
       "             rentals_may  rentals_june\n",
       "customer_id                           \n",
       "1                    2.0           7.0\n",
       "2                    1.0           1.0\n",
       "3                    2.0           4.0\n",
       "4                    0.0           6.0\n",
       "5                    3.0           5.0\n",
       "6                    3.0           4.0\n",
       "7                    5.0           5.0\n",
       "8                    1.0           3.0\n",
       "9                    3.0           2.0\n",
       "10                   1.0           5.0"
      ]
     },
     "execution_count": 6,
     "metadata": {},
     "output_type": "execute_result"
    }
   ],
   "source": [
    "# Let's check the function\n",
    "\n",
    "df_may.join(df_june, how=\"outer\").fillna(0).sort_values('customer_id').head(10)"
   ]
  },
  {
   "cell_type": "code",
   "execution_count": 7,
   "metadata": {},
   "outputs": [
    {
     "name": "stdout",
     "output_type": "stream",
     "text": [
      "········\n",
      "Customer ID 1 rented more films in JUNE than in May.\n"
     ]
    }
   ],
   "source": [
    "june_or_may(1)"
   ]
  },
  {
   "cell_type": "code",
   "execution_count": 8,
   "metadata": {},
   "outputs": [
    {
     "name": "stdout",
     "output_type": "stream",
     "text": [
      "········\n",
      "Customer ID 2 rented the same amount of films in May and June.\n"
     ]
    }
   ],
   "source": [
    "june_or_may(2)"
   ]
  },
  {
   "cell_type": "code",
   "execution_count": 9,
   "metadata": {},
   "outputs": [
    {
     "name": "stdout",
     "output_type": "stream",
     "text": [
      "········\n",
      "Customer ID 9 rented more films in MAY than in June.\n"
     ]
    }
   ],
   "source": [
    "june_or_may(9)"
   ]
  },
  {
   "cell_type": "code",
   "execution_count": 10,
   "metadata": {},
   "outputs": [
    {
     "name": "stdout",
     "output_type": "stream",
     "text": [
      "········\n",
      "Customer ID 1234 did not rent any films between May and June or is not registered in this database\n"
     ]
    }
   ],
   "source": [
    "june_or_may(1234)"
   ]
  }
 ],
 "metadata": {
  "kernelspec": {
   "display_name": "Python 3",
   "language": "python",
   "name": "python3"
  },
  "language_info": {
   "codemirror_mode": {
    "name": "ipython",
    "version": 3
   },
   "file_extension": ".py",
   "mimetype": "text/x-python",
   "name": "python",
   "nbconvert_exporter": "python",
   "pygments_lexer": "ipython3",
   "version": "3.8.8"
  }
 },
 "nbformat": 4,
 "nbformat_minor": 4
}
